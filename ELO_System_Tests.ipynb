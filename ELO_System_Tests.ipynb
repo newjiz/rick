{
 "cells": [
  {
   "cell_type": "code",
   "execution_count": 6,
   "metadata": {},
   "outputs": [],
   "source": [
    "import random\n",
    "import math\n",
    "\n",
    "SAMPLES = 50\n",
    "ORIGINAL = [i for i in range(1, SAMPLES+1)]\n",
    "\n",
    "\n",
    "PROB = 8.0\n",
    "WEIGHTS = [1. - PROB, PROB]\n",
    "\n",
    "VOTES_BEGIN = 100\n",
    "VOTES_END = 2000\n",
    "STEP = 10"
   ]
  },
  {
   "cell_type": "code",
   "execution_count": 7,
   "metadata": {},
   "outputs": [],
   "source": [
    "ELO_0 = 1500\n",
    "K_0 = 40\n",
    "K = 20\n",
    "\n",
    "def compute_estimated(r_a, r_b):\n",
    "    return 1. / (1. + 10**((r_b - r_a) / 400))\n",
    "\n",
    "def compute_new_rating(r_a, k, win, e_a):\n",
    "    _w = 1 if win else 0\n",
    "    return r_a + k * (_w - e_a)"
   ]
  },
  {
   "cell_type": "code",
   "execution_count": 8,
   "metadata": {},
   "outputs": [
    {
     "name": "stdout",
     "output_type": "stream",
     "text": [
      "0.0\n",
      "0.75\n",
      "1.0\n"
     ]
    }
   ],
   "source": [
    "# Using permutations matrices\n",
    "# Ref: https://math.stackexchange.com/questions/2492954/distance-between-two-permutations\n",
    "\n",
    "def distance(new, old):\n",
    "    d = len(new)\n",
    "    for i in range(len(new)):\n",
    "        if new[i] == old[i]: \n",
    "            d -= 1\n",
    "    return d / len(new)\n",
    "\n",
    "print(distance([1,2,3,4,5,6,7,8], [1,2,3,4,5,6,7,8]))\n",
    "print(distance([1,3,2,5,4,7,6,8], [1,2,3,4,5,6,7,8]))\n",
    "print(distance([8,7,6,5,4,3,2,1], [1,2,3,4,5,6,7,8]))"
   ]
  },
  {
   "cell_type": "code",
   "execution_count": 9,
   "metadata": {},
   "outputs": [],
   "source": [
    "votes = VOTES_BEGIN\n",
    "accuracy = []\n",
    "\n",
    "while votes <= VOTES_END:\n",
    "    users = {\n",
    "        d: {\"votes\": 0, \"elo\": ELO_0}\n",
    "        for d in ORIGINAL\n",
    "    }\n",
    "\n",
    "    for i in range(votes):\n",
    "        a, b = random.sample(ORIGINAL, k=2)\n",
    "        \n",
    "        if a < b:\n",
    "            tmp = [a, b]\n",
    "        else:\n",
    "            tmp = [b, a]\n",
    "    \n",
    "        winner = random.choices(tmp, WEIGHTS)[0]\n",
    "        loser = b if winner == a else a\n",
    "        \n",
    "        estimate_winner = compute_estimated(users[winner][\"elo\"], users[loser][\"elo\"])\n",
    "        estimate_loser = compute_estimated(users[loser][\"elo\"], users[winner][\"elo\"])\n",
    "        \n",
    "        new_elo_winner = compute_new_rating(\n",
    "            users[winner][\"elo\"],\n",
    "            K_0 if users[winner][\"votes\"] == 0 else K,\n",
    "            True,\n",
    "            estimate_winner)\n",
    "        \n",
    "        new_elo_loser = compute_new_rating(\n",
    "            users[loser][\"elo\"],\n",
    "            K_0 if users[loser][\"votes\"] == 0 else K,\n",
    "            True,\n",
    "            estimate_loser)\n",
    "        \n",
    "        users[winner][\"votes\"] += 1 \n",
    "        users[loser][\"votes\"] += 1\n",
    "        \n",
    "        users[winner][\"elo\"] = new_elo_winner \n",
    "        users[loser][\"elo\"] = new_elo_loser\n",
    "\n",
    "    tmp = [(k, v[\"elo\"], v[\"votes\"]) for k, v in users.items()]\n",
    "    tmp.sort(key=lambda x: x[2], reverse=True)\n",
    "    \n",
    "    new = [i for i, _, _ in tmp]\n",
    "    \n",
    "    d = distance(ORIGINAL, new)\n",
    "    accuracy.append((votes, d))\n",
    "    \n",
    "    votes += STEP"
   ]
  },
  {
   "cell_type": "code",
   "execution_count": 10,
   "metadata": {},
   "outputs": [
    {
     "data": {
      "image/png": "[encoded data removed]",
      "text/plain": [
       "<Figure size 720x360 with 1 Axes>"
      ]
     },
     "metadata": {},
     "output_type": "display_data"
    }
   ],
   "source": [
    "import matplotlib.pyplot as plt\n",
    "\n",
    "%matplotlib inline\n",
    "\n",
    "plt.figure(figsize=(10,5))\n",
    "plt.title('jiiiiiiz rick')\n",
    "x, y = zip(*accuracy)\n",
    "plt.plot(y)\n",
    "\n",
    "# plt.scatter(*zip(*accuracy))\n",
    "# plt.xlim(x[0],x[len(y)-1])\n",
    "\n",
    "plt.ylim(0,1.1)\n",
    "\n",
    "plt.plot()\n",
    "plt.draw()"
   ]
  },
  {
   "cell_type": "code",
   "execution_count": null,
   "metadata": {},
   "outputs": [],
   "source": []
  }
 ],
 "metadata": {
  "kernelspec": {
   "display_name": "Python 3",
   "language": "python",
   "name": "python3"
  },
  "language_info": {
   "codemirror_mode": {
    "name": "ipython",
    "version": 3
   },
   "file_extension": ".py",
   "mimetype": "text/x-python",
   "name": "python",
   "nbconvert_exporter": "python",
   "pygments_lexer": "ipython3",
   "version": "3.6.8"
  }
 },
 "nbformat": 4,
 "nbformat_minor": 2
}
