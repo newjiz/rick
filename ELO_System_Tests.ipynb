{
 "cells": [
  {
   "cell_type": "code",
   "execution_count": 1,
   "metadata": {},
   "outputs": [],
   "source": [
    "import random\n",
    "import math\n",
    "from time import time\n",
    "from scipy.stats import pearsonr"
   ]
  },
  {
   "cell_type": "code",
   "execution_count": 5,
   "metadata": {},
   "outputs": [],
   "source": [
    "def compute_estimated(r_a, r_b):\n",
    "    return 1. / (1. + 10.**((r_b - r_a) / 400.))\n",
    "\n",
    "def compute_new_rating(r_a, k, win, e_a):\n",
    "    _w = 1 if win else 0\n",
    "    return r_a + k * (_w - e_a)"
   ]
  },
  {
   "cell_type": "code",
   "execution_count": 43,
   "metadata": {},
   "outputs": [],
   "source": [
    "\n",
    "\n",
    "def compute(begin, end, step, sample=10, prob=0.9, elo_0=1500, k_0=40, k=20):\n",
    "    weigths = [1.-prob, prob]\n",
    "    original = [i for i in range(sample)]\n",
    "    votes = begin\n",
    "    accuracy = []\n",
    "\n",
    "    t0 = time()\n",
    "\n",
    "    while votes <= end:\n",
    "        users2=random.sample(original, k=sample)\n",
    "        users = {\n",
    "            d: {\"votes\": 0, \"elo\": elo_0}\n",
    "            for d in users2\n",
    "        }\n",
    "\n",
    "        for i in range(votes):\n",
    "            a, b = random.sample(list(users), k=2)\n",
    "\n",
    "            if a < b:\n",
    "                tmp = [a, b]\n",
    "            else:\n",
    "                tmp = [b, a]\n",
    "\n",
    "            winner = random.choices(tmp, weigths)[0]\n",
    "            loser = b if winner == a else a\n",
    "\n",
    "            estimate_winner = compute_estimated(users[winner][\"elo\"], users[loser][\"elo\"])\n",
    "            estimate_loser = compute_estimated(users[loser][\"elo\"], users[winner][\"elo\"])\n",
    "\n",
    "            new_elo_winner = compute_new_rating(\n",
    "                users[winner][\"elo\"],\n",
    "                k_0 if users[winner][\"elo\"] <= 0 else k,\n",
    "                True,\n",
    "                estimate_winner)\n",
    "\n",
    "            new_elo_loser = compute_new_rating(\n",
    "                users[loser][\"elo\"],\n",
    "                k_0 if users[loser][\"elo\"] <= 0 else k,\n",
    "                False,\n",
    "                estimate_loser)\n",
    "\n",
    "            users[winner][\"votes\"] += 1 \n",
    "            users[loser][\"votes\"] += 1\n",
    "\n",
    "            users[winner][\"elo\"] = new_elo_winner \n",
    "            users[loser][\"elo\"] = new_elo_loser\n",
    "\n",
    "        tmp = [(k, v[\"elo\"], v[\"votes\"]) for k, v in users.items()]\n",
    "        tmp.sort(key=lambda x: x[1], reverse=True)\n",
    "        new = [i for i, _, _ in tmp]\n",
    "\n",
    "        d = pearsonr(original, new)\n",
    "        accuracy.append((votes, (d[0]+1.0) / 2.0))\n",
    "\n",
    "        votes += step\n",
    "\n",
    "    print(f\"{(end-begin)//step:6} steps in {time()-t0:3.5} s.\")\n",
    "    \n",
    "    return accuracy"
   ]
  },
  {
   "cell_type": "code",
   "execution_count": 44,
   "metadata": {},
   "outputs": [
    {
     "name": "stdout",
     "output_type": "stream",
     "text": [
      "   900 steps in 4.3029 s.\n"
     ]
    },
    {
     "data": {
      "image/png": "[encoded data removed]",
      "text/plain": [
       "<Figure size 720x360 with 1 Axes>"
      ]
     },
     "metadata": {},
     "output_type": "display_data"
    }
   ],
   "source": [
    "import matplotlib.pyplot as plt\n",
    "\n",
    "%matplotlib inline\n",
    "\n",
    "accuracy = []\n",
    "begin, end, step = 100, 1000, 1\n",
    "sample = 20\n",
    "MAX, S_STEP = 1000, 100\n",
    "\n",
    "accuracy = compute(begin, end, step, sample, 1.0)\n",
    "\n",
    "plt.figure(figsize=(10,5))\n",
    "plt.title(f\"Jiiiiz rick!\")\n",
    "\n",
    "plt.plot(list(zip(*accuracy))[1])\n",
    "\n",
    "plt.ylim(0, 1.1)\n",
    "\n",
    "plt.plot()\n",
    "plt.draw()"
   ]
  },
  {
   "cell_type": "code",
   "execution_count": null,
   "metadata": {},
   "outputs": [],
   "source": []
  }
 ],
 "metadata": {
  "kernelspec": {
   "display_name": "Python 3",
   "language": "python",
   "name": "python3"
  },
  "language_info": {
   "codemirror_mode": {
    "name": "ipython",
    "version": 3
   },
   "file_extension": ".py",
   "mimetype": "text/x-python",
   "name": "python",
   "nbconvert_exporter": "python",
   "pygments_lexer": "ipython3",
   "version": "3.6.8"
  }
 },
 "nbformat": 4,
 "nbformat_minor": 2
}
